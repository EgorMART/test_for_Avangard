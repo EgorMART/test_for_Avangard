{
 "cells": [
  {
   "cell_type": "code",
   "execution_count": 2,
   "metadata": {},
   "outputs": [],
   "source": [
    "import pandas as pd\n",
    "\n",
    "import requests\n",
    "from urllib.parse import urlencode\n",
    "\n",
    "import matplotlib.pyplot as plt\n",
    "import seaborn as sns"
   ]
  },
  {
   "cell_type": "code",
   "execution_count": 3,
   "metadata": {},
   "outputs": [
    {
     "data": {
      "text/html": [
       "<div>\n",
       "<style scoped>\n",
       "    .dataframe tbody tr th:only-of-type {\n",
       "        vertical-align: middle;\n",
       "    }\n",
       "\n",
       "    .dataframe tbody tr th {\n",
       "        vertical-align: top;\n",
       "    }\n",
       "\n",
       "    .dataframe thead th {\n",
       "        text-align: right;\n",
       "    }\n",
       "</style>\n",
       "<table border=\"1\" class=\"dataframe\">\n",
       "  <thead>\n",
       "    <tr style=\"text-align: right;\">\n",
       "      <th></th>\n",
       "      <th>ID</th>\n",
       "      <th>Order Date</th>\n",
       "      <th>Class</th>\n",
       "      <th>Region</th>\n",
       "      <th>Sub-Category</th>\n",
       "      <th>Sales</th>\n",
       "    </tr>\n",
       "  </thead>\n",
       "  <tbody>\n",
       "    <tr>\n",
       "      <th>0</th>\n",
       "      <td>646</td>\n",
       "      <td>30/12/2018</td>\n",
       "      <td>Стандарт</td>\n",
       "      <td>Урал</td>\n",
       "      <td>Appliances</td>\n",
       "      <td>37229,08</td>\n",
       "    </tr>\n",
       "    <tr>\n",
       "      <th>1</th>\n",
       "      <td>907</td>\n",
       "      <td>30/12/2018</td>\n",
       "      <td>Стандарт</td>\n",
       "      <td>Владивосток</td>\n",
       "      <td>Bookcases</td>\n",
       "      <td>20994,61</td>\n",
       "    </tr>\n",
       "    <tr>\n",
       "      <th>2</th>\n",
       "      <td>908</td>\n",
       "      <td>30/12/2018</td>\n",
       "      <td>Стандарт</td>\n",
       "      <td>Владивосток</td>\n",
       "      <td>Phones</td>\n",
       "      <td>42133,86</td>\n",
       "    </tr>\n",
       "    <tr>\n",
       "      <th>3</th>\n",
       "      <td>909</td>\n",
       "      <td>30/12/2018</td>\n",
       "      <td>Стандарт</td>\n",
       "      <td>Владивосток</td>\n",
       "      <td>Binders</td>\n",
       "      <td>10612</td>\n",
       "    </tr>\n",
       "    <tr>\n",
       "      <th>4</th>\n",
       "      <td>1297</td>\n",
       "      <td>30/12/2018</td>\n",
       "      <td>Стандарт</td>\n",
       "      <td>Калиниград</td>\n",
       "      <td>Binders</td>\n",
       "      <td>28781,13</td>\n",
       "    </tr>\n",
       "  </tbody>\n",
       "</table>\n",
       "</div>"
      ],
      "text/plain": [
       "     ID  Order Date     Class       Region Sub-Category     Sales\n",
       "0   646  30/12/2018  Стандарт         Урал   Appliances  37229,08\n",
       "1   907  30/12/2018  Стандарт  Владивосток    Bookcases  20994,61\n",
       "2   908  30/12/2018  Стандарт  Владивосток       Phones  42133,86\n",
       "3   909  30/12/2018  Стандарт  Владивосток      Binders     10612\n",
       "4  1297  30/12/2018  Стандарт   Калиниград      Binders  28781,13"
      ]
     },
     "execution_count": 3,
     "metadata": {},
     "output_type": "execute_result"
    }
   ],
   "source": [
    "# сделаем функцию для открытия файлов из яндекс диска\n",
    "base_url = 'https://cloud-api.yandex.net/v1/disk/public/resources/download?'\n",
    "def read_yandex(link, sep):\n",
    "    final_url = base_url + urlencode(dict(public_key=link))\n",
    "    response = requests.get(final_url)\n",
    "    download_url = response.json()['href']\n",
    "    download_response = requests.get(download_url)\n",
    "    return pd.read_csv(download_url)\n",
    "\n",
    "\n",
    "train = read_yandex('https://disk.yandex.ru/d/UHZyMb-LRQvlsw', ';')\n",
    "train.head()"
   ]
  },
  {
   "cell_type": "code",
   "execution_count": 4,
   "metadata": {
    "scrolled": true
   },
   "outputs": [
    {
     "name": "stdout",
     "output_type": "stream",
     "text": [
      "<class 'pandas.core.frame.DataFrame'>\n",
      "RangeIndex: 9800 entries, 0 to 9799\n",
      "Data columns (total 6 columns):\n",
      " #   Column        Non-Null Count  Dtype \n",
      "---  ------        --------------  ----- \n",
      " 0   ID            9800 non-null   int64 \n",
      " 1   Order Date    9800 non-null   object\n",
      " 2   Class         9800 non-null   object\n",
      " 3   Region        9800 non-null   object\n",
      " 4   Sub-Category  9800 non-null   object\n",
      " 5   Sales         9800 non-null   object\n",
      "dtypes: int64(1), object(5)\n",
      "memory usage: 459.5+ KB\n"
     ]
    }
   ],
   "source": [
    "train.info()\n",
    "#неверный тип данных, но это мы исправим по мере выполнения заданий"
   ]
  },
  {
   "cell_type": "markdown",
   "metadata": {},
   "source": [
    "Посмотрим какие значения принимают различные колонки для большего понимания работы с данными "
   ]
  },
  {
   "cell_type": "code",
   "execution_count": 9,
   "metadata": {},
   "outputs": [
    {
     "name": "stdout",
     "output_type": "stream",
     "text": [
      "['Стандарт' 'Первый класс' 'Второй класс' 'Same Day']\n",
      "['Урал' 'Владивосток' 'Калиниград' 'Москва']\n",
      "['Appliances' 'Bookcases' 'Phones' 'Binders' 'Fasteners' 'Chairs' 'Paper'\n",
      " 'Furnishings' 'Art' 'Storage' 'Labels' 'Accessories' 'Tables' 'Supplies'\n",
      " 'Machines' 'Copiers' 'Envelopes']\n"
     ]
    }
   ],
   "source": [
    "print(train['Class'].unique())\n",
    "print(train['Region'].unique())\n",
    "print(train['Sub-Category'].unique())"
   ]
  },
  {
   "cell_type": "code",
   "execution_count": 10,
   "metadata": {},
   "outputs": [
    {
     "data": {
      "text/plain": [
       "9800"
      ]
     },
     "execution_count": 10,
     "metadata": {},
     "output_type": "execute_result"
    }
   ],
   "source": [
    "train['ID'].nunique()\n",
    "#заметим, что ID не повторяются"
   ]
  },
  {
   "cell_type": "code",
   "execution_count": 11,
   "metadata": {},
   "outputs": [],
   "source": [
    "#Возможно стоило бы переназвать колонки, чтобы они начинались с маленькой буквы, чтобы с ними было более удобно работать, \n",
    "#но возможно такова политика компании поэтому я не буду менять названия\n"
   ]
  },
  {
   "cell_type": "markdown",
   "metadata": {},
   "source": [
    " # Задание 1# "
   ]
  },
  {
   "cell_type": "markdown",
   "metadata": {},
   "source": [
    " а) Какие подгруппы товаров наиболее часто покупают за все время продаж (минимум 4 группы)?\n",
    " \n",
    " б) Какие подгруппы товаров наиболее часто покупают за последние два года (минимум 4 группы)?\n",
    " \n",
    " в) Какие подгруппы товаров наиболее часто покупают за последний год(минимум 4 группы)?"
   ]
  },
  {
   "cell_type": "code",
   "execution_count": 12,
   "metadata": {},
   "outputs": [
    {
     "data": {
      "text/html": [
       "<div>\n",
       "<style scoped>\n",
       "    .dataframe tbody tr th:only-of-type {\n",
       "        vertical-align: middle;\n",
       "    }\n",
       "\n",
       "    .dataframe tbody tr th {\n",
       "        vertical-align: top;\n",
       "    }\n",
       "\n",
       "    .dataframe thead th {\n",
       "        text-align: right;\n",
       "    }\n",
       "</style>\n",
       "<table border=\"1\" class=\"dataframe\">\n",
       "  <thead>\n",
       "    <tr style=\"text-align: right;\">\n",
       "      <th></th>\n",
       "      <th>Sub-Category</th>\n",
       "      <th>Count</th>\n",
       "    </tr>\n",
       "  </thead>\n",
       "  <tbody>\n",
       "    <tr>\n",
       "      <th>3</th>\n",
       "      <td>Binders</td>\n",
       "      <td>1492</td>\n",
       "    </tr>\n",
       "    <tr>\n",
       "      <th>12</th>\n",
       "      <td>Paper</td>\n",
       "      <td>1338</td>\n",
       "    </tr>\n",
       "    <tr>\n",
       "      <th>9</th>\n",
       "      <td>Furnishings</td>\n",
       "      <td>931</td>\n",
       "    </tr>\n",
       "    <tr>\n",
       "      <th>13</th>\n",
       "      <td>Phones</td>\n",
       "      <td>876</td>\n",
       "    </tr>\n",
       "    <tr>\n",
       "      <th>14</th>\n",
       "      <td>Storage</td>\n",
       "      <td>832</td>\n",
       "    </tr>\n",
       "  </tbody>\n",
       "</table>\n",
       "</div>"
      ],
      "text/plain": [
       "   Sub-Category  Count\n",
       "3       Binders   1492\n",
       "12        Paper   1338\n",
       "9   Furnishings    931\n",
       "13       Phones    876\n",
       "14      Storage    832"
      ]
     },
     "execution_count": 12,
     "metadata": {},
     "output_type": "execute_result"
    }
   ],
   "source": [
    "a = train.groupby('Sub-Category')['Sales'].count().reset_index(name='Count').sort_values('Count', ascending = False)\n",
    "a.head() #ТОП-5 подгрупп по частоте покупок за все время"
   ]
  },
  {
   "cell_type": "code",
   "execution_count": 13,
   "metadata": {},
   "outputs": [],
   "source": [
    "#посмотрим на дату и заметим, что в таблице она идет по убыванию.\n",
    "#Так как последняя дата 30/12/2018, то чтобы нам посмотреть статистку за последние \n",
    "#два года необходимо взять дату больше чем 12/30/2016\n",
    "#Так же приведем колонку Order Date к необходимому типу данных"
   ]
  },
  {
   "cell_type": "code",
   "execution_count": 14,
   "metadata": {},
   "outputs": [
    {
     "data": {
      "text/html": [
       "<div>\n",
       "<style scoped>\n",
       "    .dataframe tbody tr th:only-of-type {\n",
       "        vertical-align: middle;\n",
       "    }\n",
       "\n",
       "    .dataframe tbody tr th {\n",
       "        vertical-align: top;\n",
       "    }\n",
       "\n",
       "    .dataframe thead th {\n",
       "        text-align: right;\n",
       "    }\n",
       "</style>\n",
       "<table border=\"1\" class=\"dataframe\">\n",
       "  <thead>\n",
       "    <tr style=\"text-align: right;\">\n",
       "      <th></th>\n",
       "      <th>ID</th>\n",
       "      <th>Order Date</th>\n",
       "      <th>Class</th>\n",
       "      <th>Region</th>\n",
       "      <th>Sub-Category</th>\n",
       "      <th>Sales</th>\n",
       "    </tr>\n",
       "  </thead>\n",
       "  <tbody>\n",
       "    <tr>\n",
       "      <th>0</th>\n",
       "      <td>646</td>\n",
       "      <td>2018-12-30</td>\n",
       "      <td>Стандарт</td>\n",
       "      <td>Урал</td>\n",
       "      <td>Appliances</td>\n",
       "      <td>37229,08</td>\n",
       "    </tr>\n",
       "  </tbody>\n",
       "</table>\n",
       "</div>"
      ],
      "text/plain": [
       "    ID Order Date     Class Region Sub-Category     Sales\n",
       "0  646 2018-12-30  Стандарт   Урал   Appliances  37229,08"
      ]
     },
     "execution_count": 14,
     "metadata": {},
     "output_type": "execute_result"
    }
   ],
   "source": [
    "train['Order Date'] = pd.to_datetime(train['Order Date'])\n",
    "train.head(1)"
   ]
  },
  {
   "cell_type": "code",
   "execution_count": 15,
   "metadata": {},
   "outputs": [
    {
     "data": {
      "text/html": [
       "<div>\n",
       "<style scoped>\n",
       "    .dataframe tbody tr th:only-of-type {\n",
       "        vertical-align: middle;\n",
       "    }\n",
       "\n",
       "    .dataframe tbody tr th {\n",
       "        vertical-align: top;\n",
       "    }\n",
       "\n",
       "    .dataframe thead th {\n",
       "        text-align: right;\n",
       "    }\n",
       "</style>\n",
       "<table border=\"1\" class=\"dataframe\">\n",
       "  <thead>\n",
       "    <tr style=\"text-align: right;\">\n",
       "      <th></th>\n",
       "      <th>Sub-Category</th>\n",
       "      <th>Count</th>\n",
       "    </tr>\n",
       "  </thead>\n",
       "  <tbody>\n",
       "    <tr>\n",
       "      <th>3</th>\n",
       "      <td>Binders</td>\n",
       "      <td>907</td>\n",
       "    </tr>\n",
       "    <tr>\n",
       "      <th>12</th>\n",
       "      <td>Paper</td>\n",
       "      <td>809</td>\n",
       "    </tr>\n",
       "    <tr>\n",
       "      <th>9</th>\n",
       "      <td>Furnishings</td>\n",
       "      <td>558</td>\n",
       "    </tr>\n",
       "    <tr>\n",
       "      <th>13</th>\n",
       "      <td>Phones</td>\n",
       "      <td>510</td>\n",
       "    </tr>\n",
       "    <tr>\n",
       "      <th>14</th>\n",
       "      <td>Storage</td>\n",
       "      <td>491</td>\n",
       "    </tr>\n",
       "  </tbody>\n",
       "</table>\n",
       "</div>"
      ],
      "text/plain": [
       "   Sub-Category  Count\n",
       "3       Binders    907\n",
       "12        Paper    809\n",
       "9   Furnishings    558\n",
       "13       Phones    510\n",
       "14      Storage    491"
      ]
     },
     "execution_count": 15,
     "metadata": {},
     "output_type": "execute_result"
    }
   ],
   "source": [
    "b = (train.query('`Order Date` > \"2016-12-30\"')\n",
    "      .groupby('Sub-Category')['Sales']\n",
    "      .count()\n",
    "      .reset_index(name='Count')\n",
    "      .sort_values('Count', ascending=False))\n",
    "b.head() #ТОП-5 подгрупп по частоте покупок за последние два года"
   ]
  },
  {
   "cell_type": "code",
   "execution_count": 16,
   "metadata": {},
   "outputs": [
    {
     "data": {
      "text/plain": [
       "59.21"
      ]
     },
     "execution_count": 16,
     "metadata": {},
     "output_type": "execute_result"
    }
   ],
   "source": [
    "round(b.Count.sum() / a.Count.sum() * 100, 2)\n",
    "#Заметим, что за последние два года было совершено 59% покупок "
   ]
  },
  {
   "cell_type": "code",
   "execution_count": 17,
   "metadata": {},
   "outputs": [
    {
     "data": {
      "text/html": [
       "<div>\n",
       "<style scoped>\n",
       "    .dataframe tbody tr th:only-of-type {\n",
       "        vertical-align: middle;\n",
       "    }\n",
       "\n",
       "    .dataframe tbody tr th {\n",
       "        vertical-align: top;\n",
       "    }\n",
       "\n",
       "    .dataframe thead th {\n",
       "        text-align: right;\n",
       "    }\n",
       "</style>\n",
       "<table border=\"1\" class=\"dataframe\">\n",
       "  <thead>\n",
       "    <tr style=\"text-align: right;\">\n",
       "      <th></th>\n",
       "      <th>Sub-Category</th>\n",
       "      <th>Count</th>\n",
       "    </tr>\n",
       "  </thead>\n",
       "  <tbody>\n",
       "    <tr>\n",
       "      <th>3</th>\n",
       "      <td>Binders</td>\n",
       "      <td>494</td>\n",
       "    </tr>\n",
       "    <tr>\n",
       "      <th>12</th>\n",
       "      <td>Paper</td>\n",
       "      <td>453</td>\n",
       "    </tr>\n",
       "    <tr>\n",
       "      <th>9</th>\n",
       "      <td>Furnishings</td>\n",
       "      <td>310</td>\n",
       "    </tr>\n",
       "    <tr>\n",
       "      <th>13</th>\n",
       "      <td>Phones</td>\n",
       "      <td>291</td>\n",
       "    </tr>\n",
       "    <tr>\n",
       "      <th>14</th>\n",
       "      <td>Storage</td>\n",
       "      <td>282</td>\n",
       "    </tr>\n",
       "  </tbody>\n",
       "</table>\n",
       "</div>"
      ],
      "text/plain": [
       "   Sub-Category  Count\n",
       "3       Binders    494\n",
       "12        Paper    453\n",
       "9   Furnishings    310\n",
       "13       Phones    291\n",
       "14      Storage    282"
      ]
     },
     "execution_count": 17,
     "metadata": {},
     "output_type": "execute_result"
    }
   ],
   "source": [
    "c = (train.query('`Order Date` > \"2017-12-30\"')\n",
    "      .groupby('Sub-Category')['Sales']\n",
    "      .count()\n",
    "      .reset_index(name='Count')\n",
    "      .sort_values('Count', ascending=False))\n",
    "c.head() #ТОП-5 подгрупп по частоте покупок за последний год"
   ]
  },
  {
   "cell_type": "code",
   "execution_count": 18,
   "metadata": {},
   "outputs": [
    {
     "data": {
      "text/plain": [
       "33.32"
      ]
     },
     "execution_count": 18,
     "metadata": {},
     "output_type": "execute_result"
    }
   ],
   "source": [
    "round(c.Count.sum() / a.Count.sum() * 100, 2)\n",
    "#Заметим, что за последний год было совершено 33% покупок "
   ]
  },
  {
   "cell_type": "markdown",
   "metadata": {},
   "source": [
    "Вывод: Лидирующими остаются одни и те же подгруппы, которые с каждым годом наращивают объем продаж "
   ]
  },
  {
   "cell_type": "markdown",
   "metadata": {},
   "source": [
    "# Задание 2"
   ]
  },
  {
   "cell_type": "markdown",
   "metadata": {},
   "source": [
    "Построить boxplot («Ящик с усами») на основе продаж (Sales). \n",
    "\n",
    "Найти мажоритарную черту (т.е. избавиться от аномалий и представить четкую картину распределения величин).\n"
   ]
  },
  {
   "cell_type": "code",
   "execution_count": 19,
   "metadata": {},
   "outputs": [],
   "source": [
    "train['Sales'] = train['Sales'].str.replace(',', '.', regex=False)\n",
    "train['Sales'] = pd.to_numeric(train['Sales'])\n"
   ]
  },
  {
   "cell_type": "code",
   "execution_count": 20,
   "metadata": {},
   "outputs": [
    {
     "data": {
      "image/png": "[encoded data removed]",
      "text/plain": [
       "<Figure size 720x432 with 1 Axes>"
      ]
     },
     "metadata": {
      "needs_background": "light"
     },
     "output_type": "display_data"
    },
    {
     "data": {
      "image/png": "[encoded data removed]",
      "text/plain": [
       "<Figure size 720x432 with 1 Axes>"
      ]
     },
     "metadata": {
      "needs_background": "light"
     },
     "output_type": "display_data"
    }
   ],
   "source": [
    "\n",
    "#  Построение boxplot для визуализации распределения\n",
    "plt.figure(figsize=(10, 6))\n",
    "sns.boxplot(y=train['Sales'])\n",
    "plt.title('Boxplot of Sales')\n",
    "plt.xlabel('Sales')\n",
    "plt.show()\n",
    "\n",
    "#  Вычисление среднего и стандартного отклонения\n",
    "mean = train['Sales'].mean()\n",
    "std = train['Sales'].std()\n",
    "\n",
    "#  Определение границ\n",
    "lower_bound = mean - 3 * std\n",
    "upper_bound = mean + 3 * std\n",
    "\n",
    "#  Удаление выбросов\n",
    "train_no_outliers = train[(train['Sales'] >= lower_bound) & (train['Sales'] <= upper_bound)]\n",
    "\n",
    "\n",
    "# Построение нового boxplot без выбросов\n",
    "plt.figure(figsize=(10, 6))\n",
    "sns.boxplot(y=train_no_outliers['Sales'])\n",
    "plt.title('Boxplot of Sales without Outliers')\n",
    "plt.xlabel('Sales')\n",
    "plt.show()\n"
   ]
  },
  {
   "cell_type": "markdown",
   "metadata": {},
   "source": [
    "#  Задание 3"
   ]
  },
  {
   "cell_type": "markdown",
   "metadata": {},
   "source": [
    " Для этого задания необходимо разбить все покупки на энное количество групп “Sale_group”\n",
    "\n",
    "(Допустим маленькие продажи, средние и высокие) на основе Sales\n",
    "\n",
    "Сгруппировать данные на основе региона и группы продаж (Region, Sale_group).\n",
    "\n",
    "Определить основные тенденции и паттерны. Выделить наиболее «прибыльную» группу.\n"
   ]
  },
  {
   "cell_type": "code",
   "execution_count": 167,
   "metadata": {},
   "outputs": [
    {
     "data": {
      "text/plain": [
       "44995.41"
      ]
     },
     "execution_count": 167,
     "metadata": {},
     "output_type": "execute_result"
    }
   ],
   "source": [
    "train.Sales.max()"
   ]
  },
  {
   "cell_type": "code",
   "execution_count": 168,
   "metadata": {},
   "outputs": [
    {
     "data": {
      "text/plain": [
       "1002.794"
      ]
     },
     "execution_count": 168,
     "metadata": {},
     "output_type": "execute_result"
    }
   ],
   "source": [
    "train.Sales.min()"
   ]
  },
  {
   "cell_type": "code",
   "execution_count": 169,
   "metadata": {},
   "outputs": [
    {
     "data": {
      "text/plain": [
       "22921.75773653061"
      ]
     },
     "execution_count": 169,
     "metadata": {},
     "output_type": "execute_result"
    }
   ],
   "source": [
    "train.Sales.mean()"
   ]
  },
  {
   "cell_type": "markdown",
   "metadata": {},
   "source": [
    "Будем считать, что примерно 60% продаж это средние продажи, а 20% и 20% соответственно низкие и высокие. ПОдебрем числа так, чтобы наши ожидания совпадали с респределнием "
   ]
  },
  {
   "cell_type": "code",
   "execution_count": 22,
   "metadata": {},
   "outputs": [
    {
     "name": "stdout",
     "output_type": "stream",
     "text": [
      "Grouped Data:\n",
      "          Region Sale_group         Sales\n",
      "0   Владивосток       High  1.757291e+07\n",
      "1   Владивосток        Low  3.106636e+06\n",
      "2   Владивосток     Medium  4.327314e+07\n",
      "3    Калиниград       High  1.964036e+07\n",
      "4    Калиниград        Low  3.399870e+06\n",
      "5    Калиниград     Medium  4.889007e+07\n",
      "6        Москва       High  9.496287e+06\n",
      "7        Москва        Low  1.798489e+06\n",
      "8        Москва     Medium  2.559688e+07\n",
      "9          Урал       High  1.334838e+07\n",
      "10         Урал        Low  2.415069e+06\n",
      "11         Урал     Medium  3.609514e+07\n",
      "\n",
      "Most Profitable Group:\n",
      " Region         Калиниград\n",
      "Sale_group         Medium\n",
      "Sales         4.88901e+07\n",
      "Name: 5, dtype: object\n"
     ]
    }
   ],
   "source": [
    "#  Определение групп продаж\n",
    "def categorize_sales(sale):\n",
    "    if sale < 10000:\n",
    "        return 'Low'\n",
    "    elif 15000 <= sale < 40000:\n",
    "        return 'Medium'\n",
    "    else:\n",
    "        return 'High'\n",
    "\n",
    "train['Sale_group'] = train['Sales'].apply(categorize_sales)\n",
    "\n",
    "#  Группировка данных по Region и Sale_group\n",
    "grouped_data = train.groupby(['Region', 'Sale_group']).agg({'Sales': 'sum'}).reset_index()\n",
    "\n",
    "#  Анализ тенденций и паттернов\n",
    "print(\"Grouped Data:\\n\", grouped_data)\n",
    "\n",
    "# Определение наиболее прибыльной группы\n",
    "most_profitable_group = grouped_data.loc[grouped_data['Sales'].idxmax()]\n",
    "\n",
    "print(\"\\nMost Profitable Group:\\n\", most_profitable_group)\n"
   ]
  },
  {
   "cell_type": "code",
   "execution_count": 208,
   "metadata": {},
   "outputs": [
    {
     "name": "stdout",
     "output_type": "stream",
     "text": [
      "Количество высоких продаж : 2233\n",
      "Количество средних продаж: 5602\n",
      "Количество низких продаж: 1965\n"
     ]
    }
   ],
   "source": [
    "high_count = train.query('Sale_group == \"High\"').count().ID\n",
    "medium_count = train.query('Sale_group == \"Medium\"').count().ID\n",
    "low_count = train.query('Sale_group == \"Low\"').count().ID\n",
    "print(f'Количество высоких продаж : {high_count}')\n",
    "print(f'Количество средних продаж: {medium_count}')\n",
    "print(f'Количество низких продаж: {low_count}')\n"
   ]
  },
  {
   "cell_type": "code",
   "execution_count": null,
   "metadata": {},
   "outputs": [],
   "source": []
  }
 ],
 "metadata": {
  "kernelspec": {
   "display_name": "Python 3",
   "language": "python",
   "name": "python3"
  },
  "language_info": {
   "codemirror_mode": {
    "name": "ipython",
    "version": 3
   },
   "file_extension": ".py",
   "mimetype": "text/x-python",
   "name": "python",
   "nbconvert_exporter": "python",
   "pygments_lexer": "ipython3",
   "version": "3.7.3"
  }
 },
 "nbformat": 4,
 "nbformat_minor": 4
}
